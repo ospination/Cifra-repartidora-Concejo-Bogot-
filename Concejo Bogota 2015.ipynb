{
 "cells": [
  {
   "cell_type": "code",
   "execution_count": null,
   "metadata": {},
   "outputs": [],
   "source": [
    "import pandas as pd\n",
    "import numpy as np\n",
    "\n",
    "import re\n",
    "\n",
    "with open(\"conbog2015.txt\",\"r\") as f:\n",
    "    data = f.readlines()\n",
    "lista = {}\n",
    "for line in data:\n",
    "    words = re.sub(\",\",\"\",line).split(\"\\t\")\n",
    "    partidos=words[0].split(' ', 1)[1]\n",
    "    votos=int(words[1].replace(\".\", \"\"))\n",
    "    lista[partidos]=votos\n",
    "    \n",
    "#print(lista)    \n",
    "parties = sorted(lista, key=lista.get, reverse=True)\n",
    "vot = list(lista.values())\n",
    "vot = sorted(vot, reverse=True)\n",
    "vt= sum(vot)\n",
    "\n",
    "vpp = list(vot)\n",
    "pr = []\n",
    "for i in vpp:\n",
    "    a=(i/vt)*100\n",
    "    pr.append(a)\n",
    "    \n",
    "l=len(lista)\n",
    "cu = [0]*l\n",
    "escaños = 0\n",
    "\n",
    "while escaños < 45:\n",
    "    a = vpp.index(max(vpp))\n",
    "    cu[a] += 1\n",
    "    m = vot[a]/(cu[a]+1)  \n",
    "    vpp[a] = m\n",
    "    escaños += 1\n",
    "    #print(m)\n",
    "\n",
    "df2 = pd.DataFrame()\n",
    "#df2 = df2.rename(columns={0:'CALCULO DE REPARTICIÓN DE CURULES SEGUN BOLETÍN #'})\n",
    "df2['CALCULO DE REPARTICIÓN DE CURULES SEGUN BOLETÍN #']=1\n",
    "df1 = pd.DataFrame()\n",
    "df1 = df1.rename(columns={0:'Partido'})\n",
    "df1['Partido'] = parties\n",
    "df1['Votación'] = vot\n",
    "df1['Porcentaje %']= pd.DataFrame(pr)\n",
    "df1['Curules'] = cu\n",
    "df1.loc['Total'] = pd.Series(df['Curules'].sum(), index = ['Curules'])\n",
    "\n",
    "\n",
    "#display(df2)\n",
    "display(df1)"
   ]
  }
 ],
 "metadata": {
  "kernelspec": {
   "display_name": "Python 3",
   "language": "python",
   "name": "python3"
  },
  "language_info": {
   "codemirror_mode": {
    "name": "ipython",
    "version": 3
   },
   "file_extension": ".py",
   "mimetype": "text/x-python",
   "name": "python",
   "nbconvert_exporter": "python",
   "pygments_lexer": "ipython3",
   "version": "3.7.6"
  }
 },
 "nbformat": 4,
 "nbformat_minor": 4
}
